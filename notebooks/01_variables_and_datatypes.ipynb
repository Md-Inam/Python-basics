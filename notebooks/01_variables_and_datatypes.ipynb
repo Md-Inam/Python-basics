{
 "cells": [
  {
   "cell_type": "markdown",
   "id": "6c04d002-9b8a-4cd2-8e00-9516d12ffc76",
   "metadata": {},
   "source": [
    "### 🔹 Variables & Data Types\n",
    "\n",
    "**Definition:**  \n",
    "Variables store data values. Python detects type automatically.\n",
    "\n",
    "**Common Types:**  \n",
    "- `int` → 10  \n",
    "- `float` → 3.14  \n",
    "- `str` → \"King\"  \n",
    "- `bool` → True\n"
   ]
  },
  {
   "cell_type": "code",
   "execution_count": 3,
   "id": "68a9a1d0-a505-4cb3-9dd4-79e18a52a598",
   "metadata": {},
   "outputs": [
    {
     "name": "stdout",
     "output_type": "stream",
     "text": [
      "Name: King\n",
      "Age: 21\n",
      "Height: 100\n"
     ]
    }
   ],
   "source": [
    "# Beginner example of variable assignment\n",
    "name = \"King\"\n",
    "age = 21\n",
    "height = 100\n",
    "print(\"Name:\", name)\n",
    "print(\"Age:\", age)\n",
    "print(\"Height:\", height)\n"
   ]
  },
  {
   "cell_type": "markdown",
   "id": "fb9a0f2b-13ba-4b4b-baa8-934d46744134",
   "metadata": {},
   "source": [
    "### 🔹 Topic: Data Types in Python\n",
    "\n",
    "**Definition:**  \n",
    "Data types tell Python what kind of value a variable holds. Python has built-in types like:\n",
    "\n",
    "- `int`: Integer numbers  \n",
    "- `float`: Decimal numbers  \n",
    "- `str`: Text (strings)  \n",
    "- `bool`: True/False values  \n",
    "- `list`, `tuple`, `dict`: Data structures\n"
   ]
  },
  {
   "cell_type": "code",
   "execution_count": null,
   "id": "aed2e48e-f15a-4569-90ea-113d089b0acb",
   "metadata": {},
   "outputs": [],
   "source": [
    "# Beginner data type examples\n",
    "a = 10         # int\n",
    "b = 3.14       # float\n",
    "c = \"Hello\"    # str\n",
    "d = True       # bool\n",
    "print(\"Example-1\")\n",
    "print(type(a), type(b), type(c), type(d))\n",
    "\n",
    "\n",
    "# Real-world use: store dataset info in variables\n",
    "dataset_name = \"Iris\"\n",
    "num_samples = 150\n",
    "num_features = 4\n",
    "is_balanced = True\n",
    "print(\"Example-2\")\n",
    "print(\"Dataset\",dataset_name, \"Samples\",num_samples, \"Features\", \"num_feature\", \"Balanced\",\"is_balanced\")\n",
    "# Or\n",
    "print(f\"Dataset: {dataset_name}, Samples: {num_samples}, Features: {num_features}, Balanced: {is_balanced}\")\n"
   ]
  },
  {
   "cell_type": "markdown",
   "id": "239d9dc7-0d81-44a0-bc67-8684579f3fcf",
   "metadata": {},
   "source": [
    "### ✅ Summary\n",
    "\n",
    "- Variables store data using `=`\n",
    "- Python auto-detects data types\n",
    "- Common types: `int`, `float`, `str`, `bool`\n",
    "- Real use: model settings, dataset stats, configs\n"
   ]
  },
  {
   "cell_type": "markdown",
   "id": "5ed4d778-d211-4268-bad9-0e1a9c6b96e3",
   "metadata": {},
   "source": [
    "### 🔹 Extra Built-in Data Types in Python\n",
    "\n",
    "- `list`: Ordered collection → `[1, 2, 3]`\n",
    "- `tuple`: Immutable collection → `(1, 2, 3)`\n",
    "- `dict`: Key-value pairs → `{\"name\": \"King\", \"age\": 21}`\n"
   ]
  },
  {
   "cell_type": "code",
   "execution_count": 10,
   "id": "38275a14-dd56-4abc-8102-9bb353b277a6",
   "metadata": {},
   "outputs": [
    {
     "name": "stdout",
     "output_type": "stream",
     "text": [
      "[1, 2, 3]\n",
      "(4, 5, 6)\n",
      "{'name': 'King', 'age': 21}\n"
     ]
    }
   ],
   "source": [
    "# Beginner: list, tuple, dict\n",
    "my_list = [1, 2, 3]\n",
    "my_tuple = (4, 5, 6)\n",
    "my_dict = {\"name\": \"King\", \"age\": 21}\n",
    "\n",
    "print(my_list)\n",
    "print(my_tuple)\n",
    "print(my_dict)\n"
   ]
  },
  {
   "cell_type": "code",
   "execution_count": 11,
   "id": "611c1c04-dfbe-43f3-a048-ab68010f54d4",
   "metadata": {},
   "outputs": [
    {
     "name": "stdout",
     "output_type": "stream",
     "text": [
      "Features: ['age', 'salary', 'experience']\n",
      "Training config: {'lr': 0.01, 'batch_size': 32}\n"
     ]
    }
   ],
   "source": [
    "# Real-world: storing features and configs\n",
    "features = [\"age\", \"salary\", \"experience\"]\n",
    "hyperparams = {\"lr\": 0.01, \"batch_size\": 32}\n",
    "\n",
    "print(\"Features:\", features)\n",
    "print(\"Training config:\", hyperparams)\n"
   ]
  },
  {
   "cell_type": "markdown",
   "id": "32ec8335-f79f-46d4-9737-45dd9f642e8d",
   "metadata": {},
   "source": [
    "### 🔥 Try This Challenge (Optional)\n",
    "\n",
    "1. Create 3 variables for a student: name, marks, and is_passed.\n",
    "2. Print a summary using `f-string` like:\n",
    "\n",
    "```python\n",
    "Student King got 95 marks. Passed: True\n"
   ]
  },
  {
   "cell_type": "code",
   "execution_count": null,
   "id": "2d38e843-59a9-4573-a161-74f4efb28b5f",
   "metadata": {},
   "outputs": [],
   "source": []
  },
  {
   "cell_type": "code",
   "execution_count": null,
   "id": "8d1e519f-ba60-47bb-8a2d-dff05fed9c60",
   "metadata": {},
   "outputs": [],
   "source": []
  }
 ],
 "metadata": {
  "kernelspec": {
   "display_name": "Python 3 (ipykernel)",
   "language": "python",
   "name": "python3"
  },
  "language_info": {
   "codemirror_mode": {
    "name": "ipython",
    "version": 3
   },
   "file_extension": ".py",
   "mimetype": "text/x-python",
   "name": "python",
   "nbconvert_exporter": "python",
   "pygments_lexer": "ipython3",
   "version": "3.12.7"
  }
 },
 "nbformat": 4,
 "nbformat_minor": 5
}
