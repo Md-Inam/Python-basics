{
 "cells": [
  {
   "cell_type": "markdown",
   "id": "a40a0ab5-4df9-4663-9e82-692687106480",
   "metadata": {},
   "source": [
    "Create a DataFrame with Pandas  \n",
    "A data frame is a structured representation of data.  \n",
    "DataFrame = Numbers + Row Index (left) + Column Names (top)"
   ]
  },
  {
   "cell_type": "code",
   "execution_count": 22,
   "id": "f894e161-0521-465f-85e2-0a3203e2212c",
   "metadata": {},
   "outputs": [
    {
     "name": "stdout",
     "output_type": "stream",
     "text": [
      "   column_1  column_2\n",
      "0         1         6\n",
      "1         2         7\n",
      "2         3         8\n",
      "3         4         9\n",
      "4         5        10\n",
      "   column1  column2\n",
      "0        1        4\n",
      "1        2        5\n",
      "2        3        6\n",
      "3        4        9\n",
      "4        7        5\n",
      "   index\n",
      "A     10\n",
      "B     20\n",
      "C     30\n"
     ]
    }
   ],
   "source": [
    "import pandas as pd\n",
    "d={'column1': [1, 2, 3, 4, 7], 'column2': [4, 5, 6, 9, 5]}\n",
    "df = pd.DataFrame(data=d)\n",
    "data=pd.DataFrame({'column_1':[1,2,3,4,5],\"column_2\":[6,7,8,9,10]})\n",
    "print(data)\n",
    "print(df)\n",
    "data_2=pd.DataFrame([10,20,30],index=[\"A\",\"B\",\"C\"],columns=[\"index\"])\n",
    "print(data_2)"
   ]
  },
  {
   "cell_type": "markdown",
   "id": "f5809676-ee94-4383-bffd-8c02803a1407",
   "metadata": {},
   "source": [
    "Series (1D, like a column in Excel)"
   ]
  },
  {
   "cell_type": "code",
   "execution_count": 6,
   "id": "f8dc6741-7054-4d5c-bedc-d1e2df5d7464",
   "metadata": {},
   "outputs": [
    {
     "name": "stdout",
     "output_type": "stream",
     "text": [
      "0    1\n",
      "1    2\n",
      "2    3\n",
      "dtype: int64\n",
      "AB    10\n",
      "MU    20\n",
      "Az    30\n",
      "dtype: int64\n"
     ]
    }
   ],
   "source": [
    "a=pd.Series([1,2,3])\n",
    "print(a)\n",
    "b=pd.Series([10,20,30],index=[\"AB\",\"MU\",\"Az\"])\n",
    "print(b)"
   ]
  },
  {
   "cell_type": "markdown",
   "id": "03905350-612a-4a32-b135-aab4c3bc69f4",
   "metadata": {},
   "source": [
    "DataFrame (2D, like an Excel table)  \n",
    "DataFrame = rows + columns with labels."
   ]
  },
  {
   "cell_type": "code",
   "execution_count": 23,
   "id": "51d799a6-538b-4101-93b0-3bdcdcf221c7",
   "metadata": {},
   "outputs": [
    {
     "name": "stdout",
     "output_type": "stream",
     "text": [
      "   Name  Age  Score\n",
      "0   Ali   22     88\n",
      "1  Sara   25     92\n",
      "2  John   30     79\n"
     ]
    }
   ],
   "source": [
    "# DataFrame from dictionary\n",
    "data = {\n",
    "    \"Name\": [\"Ali\", \"Sara\", \"John\"],\n",
    "    \"Age\": [22, 25, 30],\n",
    "    \"Score\": [88, 92, 79],\n",
    "}\n",
    "df = pd.DataFrame(data)\n",
    "print(df)\n"
   ]
  },
  {
   "cell_type": "markdown",
   "id": "8deb382e-d16a-4ff0-936f-75ca8e438989",
   "metadata": {},
   "source": [
    "# Creating from NumPy array"
   ]
  },
  {
   "cell_type": "code",
   "execution_count": 24,
   "id": "5fca5dfe-862c-4fea-953a-40df6340db5b",
   "metadata": {},
   "outputs": [
    {
     "name": "stdout",
     "output_type": "stream",
     "text": [
      "   Roll  Age  marks\n",
      "0     1    2      3\n",
      "1    10   20     30\n",
      "\n",
      "\n",
      "2\n",
      "\n",
      "\n",
      "3\n"
     ]
    }
   ],
   "source": [
    "import numpy as np\n",
    "import pandas as pd\n",
    "arr=np.array([[1,2,3],[10,20,30]])\n",
    "df=pd.DataFrame(data=arr,columns=[\"Roll\",\"Age\",\"marks\"])\n",
    "print(df)\n",
    "print(\"\\n\")\n",
    "print(df.shape[0]) # number of rows\n",
    "print(\"\\n\")\n",
    "print(df.shape[1]) # numebr of columns"
   ]
  },
  {
   "cell_type": "markdown",
   "id": "40606913-da8c-434e-82cb-93832380d66b",
   "metadata": {},
   "source": [
    "# Importing / Exporting Data"
   ]
  },
  {
   "cell_type": "code",
   "execution_count": null,
   "id": "d1864378-e05a-489f-9d11-a7a276162883",
   "metadata": {},
   "outputs": [],
   "source": [
    "# Read CSV\n",
    "df = pd.read_csv(\"data.csv\")\n",
    "\n",
    "# Read Excel\n",
    "df = pd.read_excel(\"data.xlsx\")\n",
    "\n",
    "# Read JSON\n",
    "df = pd.read_json(\"data.json\")\n",
    "\n",
    "# Save DataFrame back to CSV\n",
    "df.to_csv(\"output.csv\", index=False)\n",
    "\n",
    "\n"
   ]
  },
  {
   "cell_type": "markdown",
   "id": "d0e0f432-7522-4ff1-a7b9-68f8ddcbd1ea",
   "metadata": {},
   "source": [
    "#  Indexing & Selection"
   ]
  },
  {
   "cell_type": "code",
   "execution_count": 25,
   "id": "663e8210-dd95-4887-a5a4-4ee7f4214714",
   "metadata": {},
   "outputs": [
    {
     "name": "stdout",
     "output_type": "stream",
     "text": [
      "   Roll  Age  marks\n",
      "0     1    2      3\n",
      "1    10   20     30\n",
      "\n",
      "\n",
      "0     2\n",
      "1    20\n",
      "Name: Age, dtype: int32\n",
      "\n",
      "\n",
      "   Age\n",
      "0    2\n",
      "1   20\n",
      "\n",
      "\n",
      "   Age  marks  Roll\n",
      "0    2      3     1\n",
      "1   20     30    10\n"
     ]
    }
   ],
   "source": [
    "# Access by Column\n",
    "import pandas as pd\n",
    "print(df)\n",
    "print(\"\\n\")\n",
    "print(df['Age'])\n",
    "print(\"\\n\")\n",
    "print(df[['Age']])\n",
    "print(\"\\n\")\n",
    "print(df[['Age','marks','Roll']])"
   ]
  },
  {
   "cell_type": "code",
   "execution_count": 26,
   "id": "78e9ce87-b073-46c2-abe0-7a64733b4567",
   "metadata": {},
   "outputs": [
    {
     "name": "stdout",
     "output_type": "stream",
     "text": [
      "Roll     10\n",
      "Age      20\n",
      "marks    30\n",
      "Name: 1, dtype: int32\n",
      "   Roll  Age  marks\n",
      "0     1    2      3\n",
      "1    10   20     30\n",
      "   Roll  Age  marks\n",
      "0     1    2      3\n",
      "1    10   20     30\n",
      "   Roll  Age  marks\n",
      "0     1    2      3\n"
     ]
    }
   ],
   "source": [
    "# Access by row\n",
    "#.loc[] -> by label(index name)\n",
    "#.iloc[]-> by position(0,2,1..)\n",
    "print(df.loc[1])   # single row selection\n",
    "print(df.iloc[::])  # slicing → keeps multiple rows → DataFrame\n",
    "print(df.loc[0:2])   # Rows 0 to 2 (inclusive with loc)\n",
    "print(df.iloc[0:1])  #Rows 0 to 1 (Python slicing rule)"
   ]
  },
  {
   "cell_type": "markdown",
   "id": "c0399b27-3bfe-4d61-bfc9-bd3b4415527d",
   "metadata": {},
   "source": [
    "# Slicing rows & columns   \n",
    "df.loc[rows, cols]"
   ]
  },
  {
   "cell_type": "code",
   "execution_count": 27,
   "id": "8fc0b560-3dda-42cb-b953-e92fd3d4cddc",
   "metadata": {},
   "outputs": [
    {
     "name": "stdout",
     "output_type": "stream",
     "text": [
      "0    22\n",
      "1    25\n",
      "2    19\n",
      "3    30\n",
      "Name: Age, dtype: int64\n",
      "\n",
      "\n",
      "    Name  Age\n",
      "0    Ali   22\n",
      "1   Abra   25\n",
      "2    Xa$   19\n",
      "3  Dabra   30\n",
      "\n",
      "\n",
      "1     Abra\n",
      "2      Xa$\n",
      "3    Dabra\n",
      "Name: Name, dtype: object\n",
      "\n",
      "\n",
      "   Name  Age  Score\n",
      "0   Ali   22     88\n",
      "1  Abra   25     92\n",
      "2   Xa$   19     79 ['Name', 'Score']\n"
     ]
    }
   ],
   "source": [
    "import pandas as pd\n",
    "data = {\n",
    "    'Name': ['Ali', 'Abra', 'Xa$', 'Dabra'],\n",
    "    'Age': [22, 25, 19, 30],\n",
    "    'Score': [88, 92, 79, 95]\n",
    "}\n",
    "df = pd.DataFrame(data)\n",
    "\n",
    "print(df['Age']) ,   print(\"\\n\")          # Single column → Series      \n",
    "print(df[['Name','Age']]) , print(\"\\n\")    # Multiple columns → DataFrame\n",
    "\n",
    "# Rows 1 to 3, only 'Name' column\n",
    "print(df.loc[1:3, 'Name'])\n",
    "print(\"\\n\")  \n",
    "# Rows 0 to 2, columns 'Name' and 'Score'\n",
    "print(df.loc[0:2],['Name','Score'])\n",
    "\n"
   ]
  },
  {
   "cell_type": "code",
   "execution_count": 28,
   "id": "d903a290-4778-4ce7-af1a-f7570576c229",
   "metadata": {},
   "outputs": [
    {
     "name": "stdout",
     "output_type": "stream",
     "text": [
      "   Name  Age  Marks\n",
      "0   Ali   20     90\n",
      "1  Ravi   22     70\n",
      "2  Zoya   19     85\n",
      "3  John   21     95\n"
     ]
    }
   ],
   "source": [
    "import pandas as pd\n",
    "df = pd.DataFrame({\n",
    "    'Name': ['Ali','Ravi','Zoya','John'],\n",
    "    'Age': [20, 22, 19, 21],\n",
    "    'Marks': [90, 70, 85, 95]\n",
    "})\n",
    "print(df)\n"
   ]
  },
  {
   "cell_type": "code",
   "execution_count": 29,
   "id": "9eb0a6c3-6974-4fc1-91b3-a17644bcf8a9",
   "metadata": {},
   "outputs": [
    {
     "name": "stdout",
     "output_type": "stream",
     "text": [
      "0    20\n",
      "1    22\n",
      "2    19\n",
      "3    21\n",
      "Name: Age, dtype: int64\n"
     ]
    },
    {
     "data": {
      "text/html": [
       "<div>\n",
       "<style scoped>\n",
       "    .dataframe tbody tr th:only-of-type {\n",
       "        vertical-align: middle;\n",
       "    }\n",
       "\n",
       "    .dataframe tbody tr th {\n",
       "        vertical-align: top;\n",
       "    }\n",
       "\n",
       "    .dataframe thead th {\n",
       "        text-align: right;\n",
       "    }\n",
       "</style>\n",
       "<table border=\"1\" class=\"dataframe\">\n",
       "  <thead>\n",
       "    <tr style=\"text-align: right;\">\n",
       "      <th></th>\n",
       "      <th>Age</th>\n",
       "      <th>Marks</th>\n",
       "    </tr>\n",
       "  </thead>\n",
       "  <tbody>\n",
       "    <tr>\n",
       "      <th>0</th>\n",
       "      <td>20</td>\n",
       "      <td>90</td>\n",
       "    </tr>\n",
       "    <tr>\n",
       "      <th>1</th>\n",
       "      <td>22</td>\n",
       "      <td>70</td>\n",
       "    </tr>\n",
       "    <tr>\n",
       "      <th>2</th>\n",
       "      <td>19</td>\n",
       "      <td>85</td>\n",
       "    </tr>\n",
       "    <tr>\n",
       "      <th>3</th>\n",
       "      <td>21</td>\n",
       "      <td>95</td>\n",
       "    </tr>\n",
       "  </tbody>\n",
       "</table>\n",
       "</div>"
      ],
      "text/plain": [
       "   Age  Marks\n",
       "0   20     90\n",
       "1   22     70\n",
       "2   19     85\n",
       "3   21     95"
      ]
     },
     "execution_count": 29,
     "metadata": {},
     "output_type": "execute_result"
    }
   ],
   "source": [
    "# Column access\n",
    "print(df['Age'] )       # single column → Series\n",
    "df[['Age','Marks']]   # multiple columns → DataFrame"
   ]
  },
  {
   "cell_type": "code",
   "execution_count": 30,
   "id": "a6f6ce73-3520-480b-85b1-8bef545814bd",
   "metadata": {},
   "outputs": [
    {
     "name": "stdout",
     "output_type": "stream",
     "text": [
      "Name     Zoya\n",
      "Age        19\n",
      "Marks      85\n",
      "Name: 2, dtype: object\n"
     ]
    },
    {
     "data": {
      "text/plain": [
       "Name     Zoya\n",
       "Age        19\n",
       "Marks      85\n",
       "Name: 2, dtype: object"
      ]
     },
     "execution_count": 30,
     "metadata": {},
     "output_type": "execute_result"
    }
   ],
   "source": [
    "# Row access\n",
    "print(df.iloc[2])       # row by position\n",
    "df.loc[2]        # row by label (default index == same as above)"
   ]
  },
  {
   "cell_type": "code",
   "execution_count": 31,
   "id": "c305c438-f19e-4c41-af2b-88c60a9587e6",
   "metadata": {},
   "outputs": [
    {
     "name": "stdout",
     "output_type": "stream",
     "text": [
      "Ravi\n",
      "70\n"
     ]
    },
    {
     "data": {
      "text/html": [
       "<div>\n",
       "<style scoped>\n",
       "    .dataframe tbody tr th:only-of-type {\n",
       "        vertical-align: middle;\n",
       "    }\n",
       "\n",
       "    .dataframe tbody tr th {\n",
       "        vertical-align: top;\n",
       "    }\n",
       "\n",
       "    .dataframe thead th {\n",
       "        text-align: right;\n",
       "    }\n",
       "</style>\n",
       "<table border=\"1\" class=\"dataframe\">\n",
       "  <thead>\n",
       "    <tr style=\"text-align: right;\">\n",
       "      <th></th>\n",
       "      <th>Age</th>\n",
       "    </tr>\n",
       "  </thead>\n",
       "  <tbody>\n",
       "    <tr>\n",
       "      <th>0</th>\n",
       "      <td>20</td>\n",
       "    </tr>\n",
       "    <tr>\n",
       "      <th>1</th>\n",
       "      <td>22</td>\n",
       "    </tr>\n",
       "    <tr>\n",
       "      <th>2</th>\n",
       "      <td>19</td>\n",
       "    </tr>\n",
       "  </tbody>\n",
       "</table>\n",
       "</div>"
      ],
      "text/plain": [
       "   Age\n",
       "0   20\n",
       "1   22\n",
       "2   19"
      ]
     },
     "execution_count": 31,
     "metadata": {},
     "output_type": "execute_result"
    }
   ],
   "source": [
    "\n",
    "# Row + Column together\n",
    "print(df.iloc[1, 0])            # row 1, col 0 → single value\n",
    "print(df.loc[1, 'Marks'])        # row label 1, col label 'Marks'\n",
    "df.loc[0:2, ['Age']]      # slice rows + select col"
   ]
  },
  {
   "cell_type": "code",
   "execution_count": 32,
   "id": "4bfbc8b9-2df8-4f7d-971a-e2567106c094",
   "metadata": {},
   "outputs": [
    {
     "name": "stdout",
     "output_type": "stream",
     "text": [
      "   Name  Age  Marks\n",
      "0   Ali   20     90\n",
      "2  Zoya   19     85\n",
      "3  John   21     95\n"
     ]
    },
    {
     "data": {
      "text/html": [
       "<div>\n",
       "<style scoped>\n",
       "    .dataframe tbody tr th:only-of-type {\n",
       "        vertical-align: middle;\n",
       "    }\n",
       "\n",
       "    .dataframe tbody tr th {\n",
       "        vertical-align: top;\n",
       "    }\n",
       "\n",
       "    .dataframe thead th {\n",
       "        text-align: right;\n",
       "    }\n",
       "</style>\n",
       "<table border=\"1\" class=\"dataframe\">\n",
       "  <thead>\n",
       "    <tr style=\"text-align: right;\">\n",
       "      <th></th>\n",
       "      <th>Name</th>\n",
       "      <th>Age</th>\n",
       "      <th>Marks</th>\n",
       "    </tr>\n",
       "  </thead>\n",
       "  <tbody>\n",
       "    <tr>\n",
       "      <th>3</th>\n",
       "      <td>John</td>\n",
       "      <td>21</td>\n",
       "      <td>95</td>\n",
       "    </tr>\n",
       "  </tbody>\n",
       "</table>\n",
       "</div>"
      ],
      "text/plain": [
       "   Name  Age  Marks\n",
       "3  John   21     95"
      ]
     },
     "execution_count": 32,
     "metadata": {},
     "output_type": "execute_result"
    }
   ],
   "source": [
    "\n",
    "# Boolean filtering\n",
    "print(df[df['Marks'] > 80])      # all rows where Marks > 80\n",
    "df[(df['Age'] > 20) & (df['Marks'] > 85)]   # multiple conditions"
   ]
  },
  {
   "cell_type": "code",
   "execution_count": 33,
   "id": "25e0afdb-aa35-446a-b588-f80906205f22",
   "metadata": {},
   "outputs": [
    {
     "name": "stdout",
     "output_type": "stream",
     "text": [
      "   Name  Age  Marks\n",
      "0   Ali   20     90\n",
      "1  Ravi   22     70\n",
      "2  Zoya   19     85\n",
      "3  John   21     95\n"
     ]
    }
   ],
   "source": [
    "import pandas as pd\n",
    "df = pd.DataFrame({\n",
    "    'Name': ['Ali','Ravi','Zoya','John'],\n",
    "    'Age': [20, 22, 19, 21],\n",
    "    'Marks': [90, 70, 85, 95]\n",
    "})\n",
    "print(df)\n"
   ]
  },
  {
   "cell_type": "markdown",
   "id": "4e755234-d7dd-4356-ba69-685183dd59d5",
   "metadata": {},
   "source": [
    "Get only the Age column.  \n",
    "Get the 2nd row using .iloc.  \n",
    "Get the Marks of 'Zoya' using .loc.  \n",
    "Get all rows where Marks > 80.  \n",
    "Get the Name and Marks of students where Age > 20.   \n",
    "\n",
    "Selecting columns → df['Age']    \n",
    "Filtering rows → df[df['Age'] > 20]   "
   ]
  },
  {
   "cell_type": "code",
   "execution_count": 34,
   "id": "1c65ac6c-e3d9-4471-a78c-8ccc60fd81c7",
   "metadata": {},
   "outputs": [
    {
     "name": "stdout",
     "output_type": "stream",
     "text": [
      "0    20\n",
      "1    22\n",
      "2    19\n",
      "3    21\n",
      "Name: Age, dtype: int64\n",
      "\n",
      "\n",
      "0    20\n",
      "1    22\n",
      "2    19\n",
      "3    21\n",
      "Name: Age, dtype: int64\n"
     ]
    }
   ],
   "source": [
    "# 1 [ df[] takes only 1 parameter , to apply condition use df.loc[]]\n",
    "print(df[\"Age\"])\n",
    "print(\"\\n\")\n",
    "print(df.loc[:,'Age'])"
   ]
  },
  {
   "cell_type": "code",
   "execution_count": 35,
   "id": "f02d6b03-d791-49d3-856b-e9a7b1b2c59e",
   "metadata": {},
   "outputs": [
    {
     "name": "stdout",
     "output_type": "stream",
     "text": [
      "Name     Ravi\n",
      "Age        22\n",
      "Marks      70\n",
      "Name: 1, dtype: object\n"
     ]
    }
   ],
   "source": [
    "#2\n",
    "print(df.iloc[1])"
   ]
  },
  {
   "cell_type": "code",
   "execution_count": 36,
   "id": "568354b6-fcbb-4998-8330-b136d44a4dba",
   "metadata": {},
   "outputs": [
    {
     "data": {
      "text/plain": [
       "2    85\n",
       "Name: Marks, dtype: int64"
      ]
     },
     "execution_count": 36,
     "metadata": {},
     "output_type": "execute_result"
    }
   ],
   "source": [
    "# 3 \n",
    "df.loc[df['Name'] == 'Zoya', 'Marks']"
   ]
  },
  {
   "cell_type": "code",
   "execution_count": 37,
   "id": "9a599bb4-e1a3-4a8f-b2bc-1bb5322cfb1c",
   "metadata": {},
   "outputs": [
    {
     "data": {
      "text/html": [
       "<div>\n",
       "<style scoped>\n",
       "    .dataframe tbody tr th:only-of-type {\n",
       "        vertical-align: middle;\n",
       "    }\n",
       "\n",
       "    .dataframe tbody tr th {\n",
       "        vertical-align: top;\n",
       "    }\n",
       "\n",
       "    .dataframe thead th {\n",
       "        text-align: right;\n",
       "    }\n",
       "</style>\n",
       "<table border=\"1\" class=\"dataframe\">\n",
       "  <thead>\n",
       "    <tr style=\"text-align: right;\">\n",
       "      <th></th>\n",
       "      <th>Name</th>\n",
       "      <th>Age</th>\n",
       "      <th>Marks</th>\n",
       "    </tr>\n",
       "  </thead>\n",
       "  <tbody>\n",
       "    <tr>\n",
       "      <th>0</th>\n",
       "      <td>Ali</td>\n",
       "      <td>20</td>\n",
       "      <td>90</td>\n",
       "    </tr>\n",
       "    <tr>\n",
       "      <th>2</th>\n",
       "      <td>Zoya</td>\n",
       "      <td>19</td>\n",
       "      <td>85</td>\n",
       "    </tr>\n",
       "    <tr>\n",
       "      <th>3</th>\n",
       "      <td>John</td>\n",
       "      <td>21</td>\n",
       "      <td>95</td>\n",
       "    </tr>\n",
       "  </tbody>\n",
       "</table>\n",
       "</div>"
      ],
      "text/plain": [
       "   Name  Age  Marks\n",
       "0   Ali   20     90\n",
       "2  Zoya   19     85\n",
       "3  John   21     95"
      ]
     },
     "execution_count": 37,
     "metadata": {},
     "output_type": "execute_result"
    }
   ],
   "source": [
    "# 4\n",
    "df[df[\"Marks\"]>80]"
   ]
  },
  {
   "cell_type": "code",
   "execution_count": 38,
   "id": "67ff9ca5-6571-4954-b67c-f92a09d527be",
   "metadata": {},
   "outputs": [
    {
     "data": {
      "text/html": [
       "<div>\n",
       "<style scoped>\n",
       "    .dataframe tbody tr th:only-of-type {\n",
       "        vertical-align: middle;\n",
       "    }\n",
       "\n",
       "    .dataframe tbody tr th {\n",
       "        vertical-align: top;\n",
       "    }\n",
       "\n",
       "    .dataframe thead th {\n",
       "        text-align: right;\n",
       "    }\n",
       "</style>\n",
       "<table border=\"1\" class=\"dataframe\">\n",
       "  <thead>\n",
       "    <tr style=\"text-align: right;\">\n",
       "      <th></th>\n",
       "      <th>Name</th>\n",
       "      <th>Marks</th>\n",
       "    </tr>\n",
       "  </thead>\n",
       "  <tbody>\n",
       "    <tr>\n",
       "      <th>1</th>\n",
       "      <td>Ravi</td>\n",
       "      <td>70</td>\n",
       "    </tr>\n",
       "    <tr>\n",
       "      <th>3</th>\n",
       "      <td>John</td>\n",
       "      <td>95</td>\n",
       "    </tr>\n",
       "  </tbody>\n",
       "</table>\n",
       "</div>"
      ],
      "text/plain": [
       "   Name  Marks\n",
       "1  Ravi     70\n",
       "3  John     95"
      ]
     },
     "execution_count": 38,
     "metadata": {},
     "output_type": "execute_result"
    }
   ],
   "source": [
    "# 5s\n",
    "df.loc[df['Age'] > 20, ['Name', 'Marks']]"
   ]
  },
  {
   "cell_type": "markdown",
   "id": "ccd3f237-0ca4-4697-b380-18db2d7699d5",
   "metadata": {},
   "source": [
    "#     Column Operations , \n",
    "# Aggregation & Grouping ,  \n",
    "# Sorting"
   ]
  },
  {
   "cell_type": "code",
   "execution_count": 39,
   "id": "f4935a86-ffe1-4324-8077-4c42b333d8a5",
   "metadata": {},
   "outputs": [
    {
     "name": "stdout",
     "output_type": "stream",
     "text": [
      "    Name Class Gender  Math  Science  Marks\n",
      "0  Ayaan   10A      M    85       80     82\n",
      "1   Zoya   10A      F    90       95     92\n",
      "2   Riya   10B      F    78       85     80\n",
      "3  Ayaan   10A      M    88       89     86\n",
      "4   Zoya   10B      F    92       94     93\n"
     ]
    }
   ],
   "source": [
    "import pandas as pd\n",
    "df=pd.DataFrame({\n",
    "    'Name': ['Ayaan', 'Zoya', 'Riya', 'Ayaan', 'Zoya'],\n",
    "    'Class': ['10A', '10A', '10B', '10A', '10B'],\n",
    "    'Gender': ['M', 'F', 'F', 'M',  'F'],\n",
    "    'Math': [85, 90, 78, 88, 92],\n",
    "    'Science': [80, 95, 85, 89, 94],\n",
    "    'Marks': [82, 92, 80, 86, 93]\n",
    "})\n",
    "print(df)"
   ]
  },
  {
   "cell_type": "code",
   "execution_count": 41,
   "id": "fcf197e7-410d-4e6f-a304-fb1f23ce3ab6",
   "metadata": {},
   "outputs": [
    {
     "name": "stdout",
     "output_type": "stream",
     "text": [
      "    Name Class Gender  Math  Science  Marks  Total\n",
      "0  Ayaan   10A      M    85       80     82    165\n",
      "1   Zoya   10A      F    90       95     92    185\n",
      "2   Riya   10B      F    78       85     80    163\n",
      "3  Ayaan   10A      M    88       89     86    177\n",
      "4   Zoya   10B      F    92       94     93    186\n"
     ]
    }
   ],
   "source": [
    "# 1. Column Operations\n",
    "# (i) Add a new column (Total)\n",
    "df[\"Total\"]=df['Math']+df['Science']\n",
    "print(df)"
   ]
  },
  {
   "cell_type": "code",
   "execution_count": 42,
   "id": "a0bd7f8b-1732-45ca-881a-bf3950334a14",
   "metadata": {},
   "outputs": [
    {
     "name": "stdout",
     "output_type": "stream",
     "text": [
      "    Name Class Gender  Math  Science  Marks  Total\n",
      "0  AYAAN   10A      M    85       80     82    165\n",
      "1   ZOYA   10A      F    90       95     92    185\n",
      "2   RIYA   10B      F    78       85     80    163\n",
      "3  AYAAN   10A      M    88       89     86    177\n",
      "4   ZOYA   10B      F    92       94     93    186\n"
     ]
    }
   ],
   "source": [
    "# Modify column (Name to uppercase)\n",
    "df['Name'] = df['Name'].str.upper()\n",
    "print(df)"
   ]
  },
  {
   "cell_type": "code",
   "execution_count": 43,
   "id": "804703ad-61f4-492e-a10a-95c5e9fd5ffb",
   "metadata": {},
   "outputs": [
    {
     "data": {
      "text/html": [
       "<div>\n",
       "<style scoped>\n",
       "    .dataframe tbody tr th:only-of-type {\n",
       "        vertical-align: middle;\n",
       "    }\n",
       "\n",
       "    .dataframe tbody tr th {\n",
       "        vertical-align: top;\n",
       "    }\n",
       "\n",
       "    .dataframe thead th {\n",
       "        text-align: right;\n",
       "    }\n",
       "</style>\n",
       "<table border=\"1\" class=\"dataframe\">\n",
       "  <thead>\n",
       "    <tr style=\"text-align: right;\">\n",
       "      <th></th>\n",
       "      <th>Name</th>\n",
       "      <th>Class</th>\n",
       "      <th>Gender</th>\n",
       "      <th>Math</th>\n",
       "      <th>Science</th>\n",
       "      <th>Marks</th>\n",
       "      <th>Total</th>\n",
       "    </tr>\n",
       "  </thead>\n",
       "  <tbody>\n",
       "    <tr>\n",
       "      <th>0</th>\n",
       "      <td>AYAAN</td>\n",
       "      <td>10A</td>\n",
       "      <td>M</td>\n",
       "      <td>85</td>\n",
       "      <td>80</td>\n",
       "      <td>87</td>\n",
       "      <td>165</td>\n",
       "    </tr>\n",
       "    <tr>\n",
       "      <th>1</th>\n",
       "      <td>ZOYA</td>\n",
       "      <td>10A</td>\n",
       "      <td>F</td>\n",
       "      <td>90</td>\n",
       "      <td>95</td>\n",
       "      <td>97</td>\n",
       "      <td>185</td>\n",
       "    </tr>\n",
       "    <tr>\n",
       "      <th>2</th>\n",
       "      <td>RIYA</td>\n",
       "      <td>10B</td>\n",
       "      <td>F</td>\n",
       "      <td>78</td>\n",
       "      <td>85</td>\n",
       "      <td>85</td>\n",
       "      <td>163</td>\n",
       "    </tr>\n",
       "    <tr>\n",
       "      <th>3</th>\n",
       "      <td>AYAAN</td>\n",
       "      <td>10A</td>\n",
       "      <td>M</td>\n",
       "      <td>88</td>\n",
       "      <td>89</td>\n",
       "      <td>91</td>\n",
       "      <td>177</td>\n",
       "    </tr>\n",
       "    <tr>\n",
       "      <th>4</th>\n",
       "      <td>ZOYA</td>\n",
       "      <td>10B</td>\n",
       "      <td>F</td>\n",
       "      <td>92</td>\n",
       "      <td>94</td>\n",
       "      <td>98</td>\n",
       "      <td>186</td>\n",
       "    </tr>\n",
       "  </tbody>\n",
       "</table>\n",
       "</div>"
      ],
      "text/plain": [
       "    Name Class Gender  Math  Science  Marks  Total\n",
       "0  AYAAN   10A      M    85       80     87    165\n",
       "1   ZOYA   10A      F    90       95     97    185\n",
       "2   RIYA   10B      F    78       85     85    163\n",
       "3  AYAAN   10A      M    88       89     91    177\n",
       "4   ZOYA   10B      F    92       94     98    186"
      ]
     },
     "execution_count": 43,
     "metadata": {},
     "output_type": "execute_result"
    }
   ],
   "source": [
    "# Apply function to a column (add 5 to Marks)\n",
    "#df[\"Marks\"]=df['Marks']+5\n",
    "df['Marks']=df['Marks'].apply(lambda x: x + 5)\n",
    "df"
   ]
  },
  {
   "cell_type": "code",
   "execution_count": 44,
   "id": "092595fa-542f-4376-a036-805ca6e58fc9",
   "metadata": {},
   "outputs": [
    {
     "data": {
      "text/html": [
       "<div>\n",
       "<style scoped>\n",
       "    .dataframe tbody tr th:only-of-type {\n",
       "        vertical-align: middle;\n",
       "    }\n",
       "\n",
       "    .dataframe tbody tr th {\n",
       "        vertical-align: top;\n",
       "    }\n",
       "\n",
       "    .dataframe thead th {\n",
       "        text-align: right;\n",
       "    }\n",
       "</style>\n",
       "<table border=\"1\" class=\"dataframe\">\n",
       "  <thead>\n",
       "    <tr style=\"text-align: right;\">\n",
       "      <th></th>\n",
       "      <th>Name</th>\n",
       "      <th>Class</th>\n",
       "      <th>Gender</th>\n",
       "      <th>Math</th>\n",
       "      <th>Science</th>\n",
       "      <th>Marks</th>\n",
       "      <th>Total</th>\n",
       "    </tr>\n",
       "  </thead>\n",
       "  <tbody>\n",
       "    <tr>\n",
       "      <th>0</th>\n",
       "      <td>AYAAN</td>\n",
       "      <td>10A</td>\n",
       "      <td>M</td>\n",
       "      <td>85</td>\n",
       "      <td>80</td>\n",
       "      <td>91.6</td>\n",
       "      <td>165</td>\n",
       "    </tr>\n",
       "    <tr>\n",
       "      <th>1</th>\n",
       "      <td>ZOYA</td>\n",
       "      <td>10A</td>\n",
       "      <td>F</td>\n",
       "      <td>90</td>\n",
       "      <td>95</td>\n",
       "      <td>91.6</td>\n",
       "      <td>185</td>\n",
       "    </tr>\n",
       "    <tr>\n",
       "      <th>2</th>\n",
       "      <td>RIYA</td>\n",
       "      <td>10B</td>\n",
       "      <td>F</td>\n",
       "      <td>78</td>\n",
       "      <td>85</td>\n",
       "      <td>91.6</td>\n",
       "      <td>163</td>\n",
       "    </tr>\n",
       "    <tr>\n",
       "      <th>3</th>\n",
       "      <td>AYAAN</td>\n",
       "      <td>10A</td>\n",
       "      <td>M</td>\n",
       "      <td>88</td>\n",
       "      <td>89</td>\n",
       "      <td>91.6</td>\n",
       "      <td>177</td>\n",
       "    </tr>\n",
       "    <tr>\n",
       "      <th>4</th>\n",
       "      <td>ZOYA</td>\n",
       "      <td>10B</td>\n",
       "      <td>F</td>\n",
       "      <td>92</td>\n",
       "      <td>94</td>\n",
       "      <td>91.6</td>\n",
       "      <td>186</td>\n",
       "    </tr>\n",
       "  </tbody>\n",
       "</table>\n",
       "</div>"
      ],
      "text/plain": [
       "    Name Class Gender  Math  Science  Marks  Total\n",
       "0  AYAAN   10A      M    85       80   91.6    165\n",
       "1   ZOYA   10A      F    90       95   91.6    185\n",
       "2   RIYA   10B      F    78       85   91.6    163\n",
       "3  AYAAN   10A      M    88       89   91.6    177\n",
       "4   ZOYA   10B      F    92       94   91.6    186"
      ]
     },
     "execution_count": 44,
     "metadata": {},
     "output_type": "execute_result"
    }
   ],
   "source": [
    "# 2. Aggregation\n",
    "# Get average Marks of all students\n",
    "df['Marks']=df['Marks'].mean()\n",
    "df "
   ]
  },
  {
   "cell_type": "code",
   "execution_count": 47,
   "id": "7bc4f704-d160-4419-bea9-45a68a298c9e",
   "metadata": {},
   "outputs": [
    {
     "data": {
      "text/plain": [
       "0    165\n",
       "1    185\n",
       "2    163\n",
       "3    177\n",
       "4    186\n",
       "dtype: int64"
      ]
     },
     "execution_count": 47,
     "metadata": {},
     "output_type": "execute_result"
    }
   ],
   "source": [
    "# Sum of Math and Science\n",
    "total_math_science = df[['Math', 'Science']].sum(axis=1) # Row-wise Sum\n",
    "total_math_science"
   ]
  },
  {
   "cell_type": "code",
   "execution_count": 55,
   "id": "d1c1e023-9ae7-4778-866a-f0372b1f2f15",
   "metadata": {},
   "outputs": [
    {
     "name": "stdout",
     "output_type": "stream",
     "text": [
      "Class\n",
      "10A    91.6\n",
      "10B    91.6\n",
      "Name: Marks, dtype: float64\n",
      "       Math  Science\n",
      "Class               \n",
      "10A     263     88.0\n",
      "10B     170     89.5\n"
     ]
    }
   ],
   "source": [
    "# 3. Grouping\n",
    "# (i) Group by [\"split-apply-combine\"] Class → find average Marks\n",
    "# Aggregation: Functions like mean(), sum(), count(), min(), and max\n",
    "group_class = df.groupby('Class')['Marks'].mean()\n",
    "print(group_class)\n",
    "# (ii) Group by Class and calculate Multiple Aggregations\n",
    "agg_class = df.groupby('Class').agg({'Math':'sum','Science':'mean'})\n",
    "print(agg_class)"
   ]
  },
  {
   "cell_type": "code",
   "execution_count": 56,
   "id": "0ac11b46-6759-4abc-ad2b-09d76ec448fc",
   "metadata": {},
   "outputs": [
    {
     "data": {
      "text/html": [
       "<div>\n",
       "<style scoped>\n",
       "    .dataframe tbody tr th:only-of-type {\n",
       "        vertical-align: middle;\n",
       "    }\n",
       "\n",
       "    .dataframe tbody tr th {\n",
       "        vertical-align: top;\n",
       "    }\n",
       "\n",
       "    .dataframe thead th {\n",
       "        text-align: right;\n",
       "    }\n",
       "</style>\n",
       "<table border=\"1\" class=\"dataframe\">\n",
       "  <thead>\n",
       "    <tr style=\"text-align: right;\">\n",
       "      <th></th>\n",
       "      <th>Name</th>\n",
       "      <th>Class</th>\n",
       "      <th>Gender</th>\n",
       "      <th>Math</th>\n",
       "      <th>Science</th>\n",
       "      <th>Marks</th>\n",
       "      <th>Total</th>\n",
       "    </tr>\n",
       "  </thead>\n",
       "  <tbody>\n",
       "    <tr>\n",
       "      <th>0</th>\n",
       "      <td>AYAAN</td>\n",
       "      <td>10A</td>\n",
       "      <td>M</td>\n",
       "      <td>85</td>\n",
       "      <td>80</td>\n",
       "      <td>91.6</td>\n",
       "      <td>165</td>\n",
       "    </tr>\n",
       "    <tr>\n",
       "      <th>1</th>\n",
       "      <td>ZOYA</td>\n",
       "      <td>10A</td>\n",
       "      <td>F</td>\n",
       "      <td>90</td>\n",
       "      <td>95</td>\n",
       "      <td>91.6</td>\n",
       "      <td>185</td>\n",
       "    </tr>\n",
       "    <tr>\n",
       "      <th>2</th>\n",
       "      <td>RIYA</td>\n",
       "      <td>10B</td>\n",
       "      <td>F</td>\n",
       "      <td>78</td>\n",
       "      <td>85</td>\n",
       "      <td>91.6</td>\n",
       "      <td>163</td>\n",
       "    </tr>\n",
       "    <tr>\n",
       "      <th>3</th>\n",
       "      <td>AYAAN</td>\n",
       "      <td>10A</td>\n",
       "      <td>M</td>\n",
       "      <td>88</td>\n",
       "      <td>89</td>\n",
       "      <td>91.6</td>\n",
       "      <td>177</td>\n",
       "    </tr>\n",
       "    <tr>\n",
       "      <th>4</th>\n",
       "      <td>ZOYA</td>\n",
       "      <td>10B</td>\n",
       "      <td>F</td>\n",
       "      <td>92</td>\n",
       "      <td>94</td>\n",
       "      <td>91.6</td>\n",
       "      <td>186</td>\n",
       "    </tr>\n",
       "  </tbody>\n",
       "</table>\n",
       "</div>"
      ],
      "text/plain": [
       "    Name Class Gender  Math  Science  Marks  Total\n",
       "0  AYAAN   10A      M    85       80   91.6    165\n",
       "1   ZOYA   10A      F    90       95   91.6    185\n",
       "2   RIYA   10B      F    78       85   91.6    163\n",
       "3  AYAAN   10A      M    88       89   91.6    177\n",
       "4   ZOYA   10B      F    92       94   91.6    186"
      ]
     },
     "execution_count": 56,
     "metadata": {},
     "output_type": "execute_result"
    }
   ],
   "source": [
    "# 4 SORTING\n",
    "# Sort by Marks (Descending)\n",
    "df_sorted = df.sort_values(by='Marks',ascending=False)\n",
    "df_sorted"
   ]
  },
  {
   "cell_type": "markdown",
   "id": "772e99e6-73a4-42bf-b37c-2bc1bd9b3b70",
   "metadata": {},
   "source": [
    "When to use what?  \n",
    " \n",
    "✔ df['col'] → Access a single column   \n",
    "✔ df[['col1','col2']] → Access multiple columns  \n",
    "✔ .str.upper() → Apply string operations on columns   \n",
    "✔ .sum(axis=1) → Row-wise sum (e.g., add subject marks)   \n",
    "✔ groupby() + mean() / sum() → Aggregate by a category   \n",
    "✔ .agg({'col':'func'}) → Multiple aggregations at once   \n",
    "✔ .sort_values() → Sort rows by a column   "
   ]
  },
  {
   "cell_type": "markdown",
   "id": "ebe001bb-a222-4e26-bd14-e4e2ad4dcbf7",
   "metadata": {},
   "source": [
    "# Merging & Joining (combine datasets) \n",
    "# Pivot & Crosstab (summary tables)  \n",
    "# Handling Missing Data (cleaning real datasets)   \n",
    "# Value_counts & unique (quick insights)"
   ]
  },
  {
   "cell_type": "code",
   "execution_count": 12,
   "id": "c4269355-3dc0-485f-af9f-e86c8ca87bcb",
   "metadata": {},
   "outputs": [
    {
     "name": "stdout",
     "output_type": "stream",
     "text": [
      "   ID    Name Class\n",
      "0   1    Amit     A\n",
      "1   2    Bina     A\n",
      "2   3  Chetan     B\n",
      "3   4   Deepa     B\n",
      "   ID  Subject  Marks\n",
      "0   1     Math   90.0\n",
      "1   2  Science   85.0\n",
      "2   3     Math    NaN\n",
      "3   5  Science   75.0\n"
     ]
    }
   ],
   "source": [
    "import pandas as pd\n",
    "df1=pd.DataFrame({'ID':[1,2,3,4],\n",
    "                  'Name':['Amit','Bina','Chetan','Deepa'],\n",
    "                  'Class':['A','A','B','B']})\n",
    "df2= pd.DataFrame({\n",
    "    'ID':[1,2,3,5],\n",
    "    'Subject':['Math','Science','Math','Science'],\n",
    "    'Marks':[90,85,None,75]})\n",
    "print(df1)\n",
    "print(df2)\n"
   ]
  },
  {
   "cell_type": "code",
   "execution_count": 4,
   "id": "d170e944-aeac-444b-b64b-78d57bb9622a",
   "metadata": {},
   "outputs": [
    {
     "name": "stdout",
     "output_type": "stream",
     "text": [
      "   ID    Name Class  Subject  Marks\n",
      "0   1    Amit     A     Math   90.0\n",
      "1   2    Bina     A  Science   85.0\n",
      "2   3  Chetan     B     Math    NaN\n"
     ]
    }
   ],
   "source": [
    "# Merge (Combine Both Tables)\n",
    "merged=pd.merge(df1,df2,on=\"ID\",how='inner')\n",
    "print(merged)\n",
    "#merge = mix two tables,\n",
    "#on='ID' = common column,\n",
    "#how='inner' = only common rows."
   ]
  },
  {
   "cell_type": "code",
   "execution_count": 7,
   "id": "105bf5e8-6f2e-4e41-b120-9b260e587e86",
   "metadata": {},
   "outputs": [
    {
     "data": {
      "text/html": [
       "<div>\n",
       "<style scoped>\n",
       "    .dataframe tbody tr th:only-of-type {\n",
       "        vertical-align: middle;\n",
       "    }\n",
       "\n",
       "    .dataframe tbody tr th {\n",
       "        vertical-align: top;\n",
       "    }\n",
       "\n",
       "    .dataframe thead th {\n",
       "        text-align: right;\n",
       "    }\n",
       "</style>\n",
       "<table border=\"1\" class=\"dataframe\">\n",
       "  <thead>\n",
       "    <tr style=\"text-align: right;\">\n",
       "      <th></th>\n",
       "      <th>ID</th>\n",
       "      <th>Name</th>\n",
       "      <th>Class</th>\n",
       "      <th>Subject</th>\n",
       "      <th>Marks</th>\n",
       "    </tr>\n",
       "  </thead>\n",
       "  <tbody>\n",
       "    <tr>\n",
       "      <th>0</th>\n",
       "      <td>1</td>\n",
       "      <td>Amit</td>\n",
       "      <td>A</td>\n",
       "      <td>Math</td>\n",
       "      <td>90.0</td>\n",
       "    </tr>\n",
       "    <tr>\n",
       "      <th>1</th>\n",
       "      <td>2</td>\n",
       "      <td>Bina</td>\n",
       "      <td>A</td>\n",
       "      <td>Science</td>\n",
       "      <td>85.0</td>\n",
       "    </tr>\n",
       "    <tr>\n",
       "      <th>2</th>\n",
       "      <td>3</td>\n",
       "      <td>Chetan</td>\n",
       "      <td>B</td>\n",
       "      <td>Math</td>\n",
       "      <td>87.5</td>\n",
       "    </tr>\n",
       "  </tbody>\n",
       "</table>\n",
       "</div>"
      ],
      "text/plain": [
       "   ID    Name Class  Subject  Marks\n",
       "0   1    Amit     A     Math   90.0\n",
       "1   2    Bina     A  Science   85.0\n",
       "2   3  Chetan     B     Math   87.5"
      ]
     },
     "execution_count": 7,
     "metadata": {},
     "output_type": "execute_result"
    }
   ],
   "source": [
    "# Handling missing values [Replace NaN marks with average marks]\n",
    "merged['Marks'].fillna(merged['Marks'].mean(),inplace=True)\n",
    "merged"
   ]
  },
  {
   "cell_type": "code",
   "execution_count": 13,
   "id": "5d2e7725-8935-4dc4-be0b-c9fc9fd54d8d",
   "metadata": {},
   "outputs": [
    {
     "name": "stdout",
     "output_type": "stream",
     "text": [
      "    Name  Subject  Marks\n",
      "0  Alice     Math     90\n",
      "1  Alice  Science     85\n",
      "2    Bob     Math     80\n",
      "3    Bob  Science     88\n"
     ]
    }
   ],
   "source": [
    "# Pivot Table\n",
    "import pandas as pd\n",
    "\n",
    "data = {\n",
    "    'Name': ['Alice', 'Alice', 'Bob', 'Bob'],\n",
    "    'Subject': ['Math', 'Science', 'Math', 'Science'],\n",
    "    'Marks': [90, 85, 80, 88]\n",
    "}\n",
    "df = pd.DataFrame(data)\n",
    "print(df)\n",
    "# original data\n"
   ]
  },
  {
   "cell_type": "code",
   "execution_count": 14,
   "id": "c156f886-e0d0-4e0e-a6ee-531a0e7f5af6",
   "metadata": {},
   "outputs": [
    {
     "name": "stdout",
     "output_type": "stream",
     "text": [
      "Subject  Math  Science\n",
      "Name                  \n",
      "Alice      90       85\n",
      "Bob        80       88\n"
     ]
    }
   ],
   "source": [
    "# Pivot\n",
    "# We want Name as rows, Subject as columns, and Marks as values:\n",
    "pivot=df.pivot(index='Name',columns='Subject',values='Marks')\n",
    "print(pivot)"
   ]
  },
  {
   "cell_type": "code",
   "execution_count": 15,
   "id": "4c6f2383-5480-49b5-b5ac-055c486f43bb",
   "metadata": {},
   "outputs": [
    {
     "name": "stdout",
     "output_type": "stream",
     "text": [
      "Subject\n",
      "Math       2\n",
      "Science    1\n",
      "Name: count, dtype: int64\n"
     ]
    }
   ],
   "source": [
    "# Value Counts\n",
    "print(merged['Subject'].value_counts())\n",
    "#Meaning: Count frequency of each subject."
   ]
  }
 ],
 "metadata": {
  "kernelspec": {
   "display_name": "Python 3 (ipykernel)",
   "language": "python",
   "name": "python3"
  },
  "language_info": {
   "codemirror_mode": {
    "name": "ipython",
    "version": 3
   },
   "file_extension": ".py",
   "mimetype": "text/x-python",
   "name": "python",
   "nbconvert_exporter": "python",
   "pygments_lexer": "ipython3",
   "version": "3.12.7"
  }
 },
 "nbformat": 4,
 "nbformat_minor": 5
}
