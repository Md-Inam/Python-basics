{
 "cells": [
  {
   "cell_type": "markdown",
   "id": "4d446ceb-784b-4703-ac16-215c9a817fb1",
   "metadata": {},
   "source": [
    "NumPy uses ndarray → N-dimensional array."
   ]
  },
  {
   "cell_type": "code",
   "execution_count": 2,
   "id": "ebbf5d5c-dc7e-49c2-b6c3-8c8b22e13b53",
   "metadata": {
    "scrolled": true
   },
   "outputs": [
    {
     "data": {
      "text/plain": [
       "array([1, 2, 3])"
      ]
     },
     "execution_count": 2,
     "metadata": {},
     "output_type": "execute_result"
    }
   ],
   "source": [
    "import numpy as np\n",
    "arr1=np.array([1,2,3])\n",
    "arr1"
   ]
  },
  {
   "cell_type": "markdown",
   "id": "4651eb2c-02cd-4252-9648-5fabaa7427fb",
   "metadata": {},
   "source": [
    "Array Types"
   ]
  },
  {
   "cell_type": "code",
   "execution_count": 7,
   "id": "65cccaaf-ce4e-4481-9eff-4824454ea74b",
   "metadata": {
    "scrolled": true
   },
   "outputs": [
    {
     "name": "stdout",
     "output_type": "stream",
     "text": [
      "[1.+0.j 2.+0.j 3.+0.j]\n"
     ]
    }
   ],
   "source": [
    "arr=np.array([1,2,3],dtype=complex)\n",
    "print(arr)\n",
    "#You can force type (int, float, complex)"
   ]
  },
  {
   "cell_type": "markdown",
   "id": "d0d4317a-811a-4b0f-bcd0-515b83a00097",
   "metadata": {},
   "source": [
    "Special Arrays                                                   \n",
    "                   Useful for initializing data quickly."
   ]
  },
  {
   "cell_type": "code",
   "execution_count": 10,
   "id": "55ab70c4-c245-412d-acc2-9c31d074e101",
   "metadata": {
    "scrolled": true
   },
   "outputs": [
    {
     "name": "stdout",
     "output_type": "stream",
     "text": [
      "[[0. 0. 0.]\n",
      " [0. 0. 0.]]\n",
      "[[1. 1. 1.]\n",
      " [1. 1. 1.]]\n",
      "[0 2 4 6 8]\n",
      "[0.   0.25 0.5  0.75 1.  ]\n"
     ]
    }
   ],
   "source": [
    "zeros = np.zeros((2,3))      # 2x3 array of 0s\n",
    "ones = np.ones((2,3))        # 2x3 array of 1s\n",
    "range_arr = np.arange(0, 10, 2)  # start, stop, step\n",
    "linspace_arr = np.linspace(0, 1, 5) # equally spaced numbers\n",
    "print(zeroes)\n",
    "print(ones)\n",
    "print(range_arr)\n",
    "print(linspace_arr)"
   ]
  },
  {
   "cell_type": "markdown",
   "id": "c4b110a6-6053-4f50-9060-34d231d61061",
   "metadata": {},
   "source": [
    "Array Properties                    \n",
    "                                                                  Helps understand the structure before processing.\n",
    " \n"
   ]
  },
  {
   "cell_type": "code",
   "execution_count": 17,
   "id": "9c3f8548-9052-43c5-8a08-7159c21a435d",
   "metadata": {
    "scrolled": true
   },
   "outputs": [
    {
     "name": "stdout",
     "output_type": "stream",
     "text": [
      "(2, 3)\n",
      "2\n",
      "6\n",
      "int32\n"
     ]
    }
   ],
   "source": [
    "arr = np.array([[1, 2, 3], [4, 5, 6]])\n",
    "print(arr.shape)   # rows, columns\n",
    "print(arr.ndim)    # number of dimensions\n",
    "print(arr.size)    # total elements\n",
    "print(arr.dtype)   # data type"
   ]
  },
  {
   "cell_type": "markdown",
   "id": "047139dc-5828-43d0-ba7d-ff53abc7cc05",
   "metadata": {},
   "source": [
    "Indexing & Slicing"
   ]
  },
  {
   "cell_type": "code",
   "execution_count": 18,
   "id": "ecea6084-f4a2-403b-9b07-887709a65bef",
   "metadata": {
    "scrolled": true
   },
   "outputs": [
    {
     "name": "stdout",
     "output_type": "stream",
     "text": [
      "20\n",
      "[20 30]\n",
      "40\n"
     ]
    }
   ],
   "source": [
    "arr = np.array([10, 20, 30, 40])\n",
    "print(arr[1])      # single element\n",
    "print(arr[1:3])    # slice\n",
    "print(arr[-1])     # last element\n"
   ]
  },
  {
   "cell_type": "markdown",
   "id": "e21455b0-d3e4-4ff7-80a1-ed61ad96e53f",
   "metadata": {},
   "source": [
    "Multi-Dimensional Indexing"
   ]
  },
  {
   "cell_type": "code",
   "execution_count": 59,
   "id": "0caa49d4-1747-491c-a47e-b5bb60a7bc35",
   "metadata": {
    "scrolled": true
   },
   "outputs": [
    {
     "name": "stdout",
     "output_type": "stream",
     "text": [
      "2\n",
      "[2 5 7]\n"
     ]
    },
    {
     "data": {
      "text/plain": [
       "array([[1],\n",
       "       [2],\n",
       "       [4],\n",
       "       [5],\n",
       "       [6],\n",
       "       [7]])"
      ]
     },
     "execution_count": 59,
     "metadata": {},
     "output_type": "execute_result"
    }
   ],
   "source": [
    "arr = np.array([[1,2],[4,5],[6,7]])\n",
    "print(arr[0,1])   # row 0, col 1 → 2\n",
    "print(arr[:,1])   # all rows, col 1 → [2 5]\n"
   ]
  },
  {
   "cell_type": "markdown",
   "id": "77af4f83-3bd3-4bdb-bca2-d547b8a618b6",
   "metadata": {},
   "source": [
    "Conversion of 1D array To 2D array  \n",
    " Total Elements Must Stay the Same\n",
    "If your 1D array has N elements, your new 2D shape must multiply to N.      \n",
    "arr.reshape(2, -1)    [Used in Industry,Let numpy figure it out]\n"
   ]
  },
  {
   "cell_type": "code",
   "execution_count": 67,
   "id": "6a14eed0-a40f-477a-8e68-498f2aa7b121",
   "metadata": {
    "scrolled": true
   },
   "outputs": [
    {
     "data": {
      "text/plain": [
       "array([[ 1,  2,  3,  4,  5],\n",
       "       [ 6,  7,  8,  9, 10]])"
      ]
     },
     "execution_count": 67,
     "metadata": {},
     "output_type": "execute_result"
    }
   ],
   "source": [
    "array=np.array([1,2,3,4,5,6,7,8,9,10])\n",
    "array.reshape(2,-1)\n"
   ]
  },
  {
   "cell_type": "markdown",
   "id": "61389112-21ea-4604-8486-f1aa0a736f3a",
   "metadata": {},
   "source": [
    "Resize  \n",
    "During Resizingnumpy append zeros if a value is missing  \n",
    "Ex-Resizing 1x6 array to 2x3 and 3x4\n"
   ]
  },
  {
   "cell_type": "code",
   "execution_count": 17,
   "id": "4ac46343-235e-4a64-a0f4-62fed261f311",
   "metadata": {
    "scrolled": true
   },
   "outputs": [
    {
     "name": "stdout",
     "output_type": "stream",
     "text": [
      "[[1 2 3]\n",
      " [4 5 6]]\n",
      "\n",
      "\n",
      "[[1 2 3 4]\n",
      " [5 6 0 0]\n",
      " [0 0 0 0]]\n"
     ]
    }
   ],
   "source": [
    "import numpy as np\n",
    "arr1=np.array([1,2,3,4,5,6])\n",
    "arr1.resize((2,3))\n",
    "print(arr1)\n",
    "print(\"\\n\")\n",
    "arr1.resize((3,4))\n",
    "print(arr1)\n",
    "\n"
   ]
  },
  {
   "cell_type": "markdown",
   "id": "4351552b-1837-406f-8033-42fe01023380",
   "metadata": {},
   "source": [
    "Vectorized Operations  \n",
    "Concept: Applies operations on entire array at once  \n",
    "Why? Faster than loops , Runs in C internally"
   ]
  },
  {
   "cell_type": "code",
   "execution_count": 18,
   "id": "a603333d-2fb0-48d8-9ce7-6121f317d5bb",
   "metadata": {
    "scrolled": true
   },
   "outputs": [
    {
     "name": "stdout",
     "output_type": "stream",
     "text": [
      "Addition [5 7 9]\n",
      "Subtraction [-3 -3 -3]\n",
      "Multiplication [ 4 10 18]\n",
      "Sqaure [  1  32 729]\n"
     ]
    }
   ],
   "source": [
    "import numpy as np\n",
    "a=np.array([1,2,3])\n",
    "b=np.array([4,5,6])\n",
    "print(\"Addition\",a+b)\n",
    "print(\"Subtraction\",a-b)\n",
    "print(\"Multiplication\",a*b)\n",
    "print(\"Sqaure\",a**b)"
   ]
  },
  {
   "cell_type": "markdown",
   "id": "3d41f809-a8a9-418c-aedf-4721f57cfa91",
   "metadata": {},
   "source": [
    "Broadcasting   \n",
    "Concept:Numpy \"Stretches\" array so shapes match  \n",
    "Why? No need for manual loops to match shape"
   ]
  },
  {
   "cell_type": "code",
   "execution_count": 20,
   "id": "e56d86b6-e564-415d-a6d5-eb23b34d180a",
   "metadata": {},
   "outputs": [
    {
     "name": "stdout",
     "output_type": "stream",
     "text": [
      "[[11 22 33]\n",
      " [14 25 36]]\n"
     ]
    }
   ],
   "source": [
    "arr=np.array([[1,2,3],\n",
    "              [4,5,6]])\n",
    "arr1=np.array([10,20,30])\n",
    "#Broadcast arr1 to match arr\n",
    "print(arr+arr1)"
   ]
  },
  {
   "cell_type": "markdown",
   "id": "37013f0a-31fc-418d-90bd-a61096293d14",
   "metadata": {},
   "source": [
    "Boolean Indexing and Masks   \n",
    "Concept:Filter data with conditions"
   ]
  },
  {
   "cell_type": "code",
   "execution_count": 24,
   "id": "a879bfdd-87d9-4604-a457-d18457362f3b",
   "metadata": {},
   "outputs": [
    {
     "name": "stdout",
     "output_type": "stream",
     "text": [
      "[False False False  True  True  True]\n",
      "[20 25 30]\n"
     ]
    }
   ],
   "source": [
    "arr=np.array([5,10,15,20,25,30])\n",
    "mask=arr>15\n",
    "print(mask) #Boolean array (True or False...)\n",
    "print(arr[mask]) #Filtered Values"
   ]
  },
  {
   "cell_type": "markdown",
   "id": "22250a74-ba44-4499-b30c-8570118edd60",
   "metadata": {},
   "source": [
    "Math & Statistics  \n",
    "Concept: Quick calculations along rows/columns.   \n",
    "axis=0(Column)  \n",
    "axis=1(Row)\n",
    "\n"
   ]
  },
  {
   "cell_type": "code",
   "execution_count": 11,
   "id": "ed2823db-4076-49e0-9f01-151b7c12d1bc",
   "metadata": {},
   "outputs": [
    {
     "name": "stdout",
     "output_type": "stream",
     "text": [
      "21\n",
      "3.5\n",
      "[5 7 9]\n",
      "[ 6 15]\n",
      "6\n",
      "1\n"
     ]
    }
   ],
   "source": [
    "data=np.array([[1,2,3],\n",
    "              [4,5,6]])\n",
    "print(data.sum())\n",
    "print(data.mean())\n",
    "print(data.sum(axis=0)) #sum of each column\n",
    "print(data.sum(axis=1)) #sum of each row\n",
    "print(data.max())\n",
    "print(data.min())\n"
   ]
  },
  {
   "cell_type": "markdown",
   "id": "9cf64c0e-1e23-4198-847b-867c2cbffc96",
   "metadata": {},
   "source": [
    "Reshape, Flatten, Ravel   \n",
    "Concept: Change dimensions or make 1D."
   ]
  },
  {
   "cell_type": "code",
   "execution_count": 20,
   "id": "960f8d8b-1a52-4db5-9fbd-d8a60855cf43",
   "metadata": {},
   "outputs": [
    {
     "name": "stdout",
     "output_type": "stream",
     "text": [
      "(2, 3)\n",
      "[[1 2]\n",
      " [3 4]\n",
      " [5 6]]\n",
      "[[1]\n",
      " [2]\n",
      " [3]\n",
      " [4]\n",
      " [5]\n",
      " [6]]\n",
      "[1 2 3 4 5 6]\n",
      "[1 2 3 4 5 6]\n"
     ]
    }
   ],
   "source": [
    "arr=np.array([[1,2,3],[4,5,6]])\n",
    "print(arr.shape)\n",
    "print(arr.reshape(3,2)) # change shape\n",
    "print(arr.reshape(6,1)) # change shape\n",
    "print(arr.ravel())  # returns view (faster)\n",
    "print(arr.flatten()) # returns copy"
   ]
  },
  {
   "cell_type": "markdown",
   "id": "41815a47-c145-40ea-af02-5d99a8607f37",
   "metadata": {},
   "source": [
    "Stacking & Splitting  \n",
    "Concept: Join or split arrays.   \n",
    "✅ Why? Used in merging datasets, splitting features/labels.\n",
    "\n"
   ]
  },
  {
   "cell_type": "code",
   "execution_count": 35,
   "id": "7291b357-eb35-468d-8b67-4b4e6a20fcdb",
   "metadata": {},
   "outputs": [
    {
     "name": "stdout",
     "output_type": "stream",
     "text": [
      "[[1 2]\n",
      " [3 4]\n",
      " [5 6]\n",
      " [7 8]]\n",
      "[[1 2 5 6]\n",
      " [3 4 7 8]]\n",
      "[array([[1, 2],\n",
      "       [3, 4]])]\n",
      "\n",
      " vstack/hstack are more readable\n",
      "[[1 2 5 6]\n",
      " [3 4 7 8]]\n",
      "[[1 2 5 6]\n",
      " [3 4 7 8]]\n"
     ]
    }
   ],
   "source": [
    "a=np.array([[1,2],[3,4]])\n",
    "b=np.array([[5,6],[7,8]])\n",
    "c=np.vstack((a,b))  # vertical stack\n",
    "print(c)\n",
    "d=np.hstack((a,b)) # horizontal stack\n",
    "print(d)\n",
    "print(np.hsplit(a,1)) # split into 2 columns\n",
    "print(\"\\n vstack/hstack are more readable\")\n",
    "print(np.concatenate((a, b), axis=1))\n",
    "print(np.concatenate((a, b), axis=1))\n"
   ]
  },
  {
   "cell_type": "code",
   "execution_count": 36,
   "id": "6a34699b-0206-4c0e-a132-da6e96430450",
   "metadata": {},
   "outputs": [
    {
     "name": "stdout",
     "output_type": "stream",
     "text": [
      "[[ 25 170   1   0]\n",
      " [ 30 180   0   1]\n",
      " [ 22 165   1   0]]\n"
     ]
    }
   ],
   "source": [
    "import numpy as np\n",
    "\n",
    "# Numeric features\n",
    "X_numeric = np.array([[25, 170], [30, 180], [22, 165]])  # age, height\n",
    "\n",
    "# Categorical (Gender)\n",
    "X_gender = np.array(['Male', 'Female', 'Male'])\n",
    "\n",
    "# One-hot encode gender manually\n",
    "X_gender_encoded = np.array([[1, 0], [0, 1], [1, 0]])  # [Male, Female]\n",
    "\n",
    "# Combine numeric + encoded categorical\n",
    "X_full = np.hstack((X_numeric, X_gender_encoded))\n",
    "print(X_full)\n"
   ]
  },
  {
   "cell_type": "code",
   "execution_count": null,
   "id": "09d66828-f764-436b-a2e2-da639a731b19",
   "metadata": {},
   "outputs": [],
   "source": [
    "X_numeric=np.array([[10,20],[14,20],[40,06]])\n",
    "X_gender=np.array([''])"
   ]
  },
  {
   "cell_type": "code",
   "execution_count": 10,
   "id": "449ce77b-2fcf-4b97-a139-dc551d78d118",
   "metadata": {},
   "outputs": [
    {
     "data": {
      "text/plain": [
       "[[4, 5, 6]]"
      ]
     },
     "execution_count": 10,
     "metadata": {},
     "output_type": "execute_result"
    }
   ],
   "source": [
    "a=[[1,2,3]\n",
    "  ,[4,5,6]]\n",
    "a[::-2]"
   ]
  },
  {
   "cell_type": "code",
   "execution_count": 2,
   "id": "aedabba6-2593-4448-b184-5cfe64bebf01",
   "metadata": {},
   "outputs": [
    {
     "name": "stdout",
     "output_type": "stream",
     "text": [
      "[['a' 'b' 'c']\n",
      " ['g' 'h' 'i']]\n",
      "\n",
      "\n",
      "[['a' 'b']\n",
      " ['d' 'e']\n",
      " ['g' 'h']]\n"
     ]
    }
   ],
   "source": [
    "import numpy as np\n",
    "A = np.array([\n",
    "    ['a', 'b', 'c'],\n",
    "    ['d', 'e', 'f'],\n",
    "    ['g', 'h', 'i']\n",
    "])\n",
    "\n",
    "print(A[::2])\n",
    "#::2 here means:\n",
    "#Start at row 0\n",
    "#Go until the end\n",
    "#Step = 2\n",
    "#So it picks row 0, row 2 (skips row 1).\n",
    "#:2 → \"up to column index 2 (exclusive)\"\n",
    "\n",
    "#::2 → \"every 2nd column\"\n",
    "print(\"\\n\")\n",
    "print(A[:,:2]) "
   ]
  },
  {
   "cell_type": "markdown",
   "id": "1e30bf88-8e86-4b98-a801-5bba230b219d",
   "metadata": {},
   "source": [
    "In NumPy slicing:  \n",
    ": alone → means “take everything” along that axis.  \n",
    ":: → same as :, but lets you add a step.  \n",
    "::2 → take every 2nd element.  \n",
    "::-1 → reverse order.Shapes:  \n",
    "  \n",
    "A[...] has two axes (rows, columns).  \n",
    "If you write one thing inside [], like A[::2], you’re only slicing rows (the first axis). Columns are assumed as \"all\".  \n",
    "If you write two things, like A[:, ::2], then:   \n",
    "first part (before comma) → row selection \n",
    "second part (after comma) → column selection"
   ]
  },
  {
   "cell_type": "code",
   "execution_count": 29,
   "id": "8e1f1bfd-40da-47f7-90b0-ebb207632a51",
   "metadata": {},
   "outputs": [
    {
     "name": "stdout",
     "output_type": "stream",
     "text": [
      "[['a' 'b' 'c']\n",
      " ['g' 'h' 'i']]\n",
      "\n",
      "\n",
      "[['a' 'c']\n",
      " ['d' 'f']\n",
      " ['g' 'i']]\n",
      "\n",
      "\n",
      "[['a' 'b']\n",
      " ['d' 'e']\n",
      " ['g' 'h']]\n",
      "\n",
      "\n",
      "[['a' 'b' 'c']]\n"
     ]
    }
   ],
   "source": [
    "A = np.array([\n",
    "    ['a','b','c'],\n",
    "    ['d','e','f'],\n",
    "    ['g','h','i']\n",
    "])\n",
    "print(A[::2]) #A[::2] → rows 0 and 2\n",
    "print(\"\\n\")\n",
    "print(A[:, ::2])  # all rows, every 2nd column\n",
    "print(\"\\n\")\n",
    "print(A[:, :2]) # → all rows, columns 0 and 1\n",
    "print(\"\\n\")\n",
    "print(A[:1:])"
   ]
  },
  {
   "cell_type": "code",
   "execution_count": 3,
   "id": "1e38341b-8bbd-4067-a495-dfc6d6689915",
   "metadata": {},
   "outputs": [
    {
     "data": {
      "text/plain": [
       "array([20, 21, 22, 23, 24])"
      ]
     },
     "execution_count": 3,
     "metadata": {},
     "output_type": "execute_result"
    }
   ],
   "source": [
    "a = np.arange(5)\n",
    "a + 20"
   ]
  },
  {
   "cell_type": "markdown",
   "id": "9f85270a-ab99-4ced-a275-90c407913585",
   "metadata": {},
   "source": [
    "🔹 Linear Algebra with NumPy"
   ]
  },
  {
   "cell_type": "code",
   "execution_count": 4,
   "id": "77375a94-11cd-40dc-ad50-039db7382f33",
   "metadata": {},
   "outputs": [
    {
     "name": "stdout",
     "output_type": "stream",
     "text": [
      "[[1 3]\n",
      " [2 4]]\n",
      "[[5 7]\n",
      " [6 8]]\n"
     ]
    }
   ],
   "source": [
    "A = np.array([[1, 2], [3, 4]])\n",
    "B = np.array([[5, 6], [7, 8]])\n",
    "print(A.T) # Transpose - flips rows ↔ columns\n",
    "print(B.T)\n"
   ]
  },
  {
   "cell_type": "code",
   "execution_count": 21,
   "id": "1059657a-2120-4e2d-b10a-c9a008a70417",
   "metadata": {},
   "outputs": [
    {
     "name": "stdout",
     "output_type": "stream",
     "text": [
      "[[ 6  8]\n",
      " [10 12]] [[-4 -4]\n",
      " [-4 -4]] [[19 22]\n",
      " [43 50]] [[ 5 12]\n",
      " [21 32]]\n",
      "[[1. 0. 0.]\n",
      " [0. 1. 0.]\n",
      " [0. 0. 1.]]\n",
      "[[-2.   1. ]\n",
      " [ 1.5 -0.5]]\n",
      "-2.0000000000000004\n",
      "2\n",
      "5\n",
      "[2. 3.]\n"
     ]
    }
   ],
   "source": [
    "print(A+B,A-B,A@B,A*B)\n",
    "#Identity MAtrix\n",
    "I = np.eye(3)  \n",
    "print(I)\n",
    "print(np.linalg.inv(A)) #INverse\n",
    "print(np.linalg.det(A)) #Determminant to check invertibility det =0 is not invertible\n",
    "print(np.linalg.matrix_rank(A)) # To check number of independent rows/columns\n",
    "print(np.trace(A)) # Sum of diagonal elements\n",
    "vals,vec= np.linalg.eig(A)\n",
    "#Core in ML: PCA, spectral clustering etc\n",
    "#Solving Linear Equations\n",
    "#Equation: Ax = b\n",
    "A = np.array([[3,1], [1,2]])\n",
    "b = np.array([9,8])\n",
    "x = np.linalg.solve(A, b)\n",
    "print(x)"
   ]
  },
  {
   "cell_type": "markdown",
   "id": "e25579b3-a4ed-4261-8fb2-29b29af51bfb",
   "metadata": {},
   "source": [
    "# Useful Functions"
   ]
  },
  {
   "cell_type": "code",
   "execution_count": 32,
   "id": "c7e405e1-c084-4a48-910a-3a273a88ca93",
   "metadata": {},
   "outputs": [
    {
     "data": {
      "text/plain": [
       "array([ 0,  2,  4,  6,  8, 10, 12, 14, 16, 18])"
      ]
     },
     "execution_count": 32,
     "metadata": {},
     "output_type": "execute_result"
    }
   ],
   "source": [
    "#1. np.arange()\n",
    "#Creates evenly spaced values (like Python range() but gives a NumPy array).\n",
    "A=np.arange(0,20,2)\n",
    "A"
   ]
  },
  {
   "cell_type": "code",
   "execution_count": 38,
   "id": "50cbae51-3f4e-49f0-8f7e-ad208880d671",
   "metadata": {},
   "outputs": [
    {
     "name": "stdout",
     "output_type": "stream",
     "text": [
      "[0.   0.25 0.5  0.75 1.  ]\n"
     ]
    }
   ],
   "source": [
    "#np.linspace()\n",
    "# 👉 Creates evenly spaced values between two numbers, with a fixed count of points.\n",
    "b = np.linspace(0, 1, 5)   # start=0, stop=1, 5 values\n",
    "print(b)   # [0.   0.25 0.5  0.75 1. ]\n",
    "  "
   ]
  },
  {
   "cell_type": "code",
   "execution_count": 40,
   "id": "6dd4a879-bd86-45ef-8b5a-70840b5cbca6",
   "metadata": {},
   "outputs": [
    {
     "name": "stdout",
     "output_type": "stream",
     "text": [
      "Random Integers:\n",
      " [[9 6 7]\n",
      " [9 4 6]]\n",
      "\n",
      "Random Floats (0-1):\n",
      " [[0.54493653 0.64270624]\n",
      " [0.44265534 0.22782314]]\n",
      "\n",
      "Random Normal Distribution:\n",
      " [-0.07443227  0.41860743  0.11232603]\n",
      "\n",
      "Random Choice:\n",
      " [10 20 10 10 30 20 30 20 10 40]\n",
      "\n",
      "Shuffled Array:\n",
      " [8 4 1 2 9 6 5 3 0 7]\n"
     ]
    }
   ],
   "source": [
    "#np.random ( Generates random numbers)\n",
    "import numpy as np\n",
    "# 1. Random integers in a range\n",
    "rand_ints = np.random.randint(1, 10, size=(2, 3))  \n",
    "print(\"Random Integers:\\n\", rand_ints)\n",
    "\n",
    "# 2. Random floats between 0 and 1\n",
    "rand_floats = np.random.rand(2, 2)  \n",
    "    # 2x2 array with values in [0, 1)\n",
    "print(\"\\nRandom Floats (0-1):\\n\", rand_floats)\n",
    "\n",
    "# 3. Random numbers from Standard Normal Distribution (mean=0, std=1)\n",
    "rand_normal = np.random.randn(3)  \n",
    "print(\"\\nRandom Normal Distribution:\\n\", rand_normal)\n",
    "\n",
    "# 4. Random choice from a list/array\n",
    "rand_choice = np.random.choice([10, 20, 30, 40], size=10)  \n",
    "print(\"\\nRandom Choice:\\n\", rand_choice)\n",
    "\n",
    "# 5. Shuffle an array in place\n",
    "arr = np.arange(10)\n",
    "np.random.shuffle(arr)  \n",
    "# Randomly shuffles the array\n",
    "print(\"\\nShuffled Array:\\n\", arr)\n"
   ]
  },
  {
   "cell_type": "code",
   "execution_count": null,
   "id": "eb428ccd-20d6-45a0-8bfc-605ed65ca308",
   "metadata": {},
   "outputs": [],
   "source": []
  }
 ],
 "metadata": {
  "kernelspec": {
   "display_name": "Python 3 (ipykernel)",
   "language": "python",
   "name": "python3"
  },
  "language_info": {
   "codemirror_mode": {
    "name": "ipython",
    "version": 3
   },
   "file_extension": ".py",
   "mimetype": "text/x-python",
   "name": "python",
   "nbconvert_exporter": "python",
   "pygments_lexer": "ipython3",
   "version": "3.12.7"
  }
 },
 "nbformat": 4,
 "nbformat_minor": 5
}
